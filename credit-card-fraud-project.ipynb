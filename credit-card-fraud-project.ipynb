{
 "cells": [
  {
   "cell_type": "code",
   "execution_count": 1,
   "id": "658fc646",
   "metadata": {
    "_cell_guid": "b1076dfc-b9ad-4769-8c92-a6c4dae69d19",
    "_uuid": "8f2839f25d086af736a60e9eeb907d3b93b6e0e5",
    "execution": {
     "iopub.execute_input": "2023-11-14T00:38:20.803088Z",
     "iopub.status.busy": "2023-11-14T00:38:20.802000Z",
     "iopub.status.idle": "2023-11-14T00:38:21.688975Z",
     "shell.execute_reply": "2023-11-14T00:38:21.687486Z"
    },
    "papermill": {
     "duration": 0.898085,
     "end_time": "2023-11-14T00:38:21.692100",
     "exception": false,
     "start_time": "2023-11-14T00:38:20.794015",
     "status": "completed"
    },
    "tags": []
   },
   "outputs": [
    {
     "name": "stdout",
     "output_type": "stream",
     "text": [
      "/kaggle/input/credit-card-fraud-detection-dataset-2023/creditcard_2023.csv\n"
     ]
    }
   ],
   "source": [
    "# This Python 3 environment comes with many helpful analytics libraries installed\n",
    "# It is defined by the kaggle/python Docker image: https://github.com/kaggle/docker-python\n",
    "# For example, here's several helpful packages to load\n",
    "\n",
    "import numpy as np # linear algebra\n",
    "import pandas as pd # data processing, CSV file I/O (e.g. pd.read_csv)\n",
    "\n",
    "# Input data files are available in the read-only \"../input/\" directory\n",
    "# For example, running this (by clicking run or pressing Shift+Enter) will list all files under the input directory\n",
    "\n",
    "import os\n",
    "for dirname, _, filenames in os.walk('/kaggle/input'):\n",
    "    for filename in filenames:\n",
    "        print(os.path.join(dirname, filename))\n",
    "\n",
    "# You can write up to 20GB to the current directory (/kaggle/working/) that gets preserved as output when you create a version using \"Save & Run All\" \n",
    "# You can also write temporary files to /kaggle/temp/, but they won't be saved outside of the current session"
   ]
  },
  {
   "cell_type": "markdown",
   "id": "6b4e6997",
   "metadata": {
    "papermill": {
     "duration": 0.00562,
     "end_time": "2023-11-14T00:38:21.703959",
     "exception": false,
     "start_time": "2023-11-14T00:38:21.698339",
     "status": "completed"
    },
    "tags": []
   },
   "source": [
    "# Read in the data"
   ]
  },
  {
   "cell_type": "code",
   "execution_count": 2,
   "id": "f61e6b73",
   "metadata": {
    "execution": {
     "iopub.execute_input": "2023-11-14T00:38:21.717993Z",
     "iopub.status.busy": "2023-11-14T00:38:21.717410Z",
     "iopub.status.idle": "2023-11-14T00:38:32.071892Z",
     "shell.execute_reply": "2023-11-14T00:38:32.070604Z"
    },
    "papermill": {
     "duration": 10.364985,
     "end_time": "2023-11-14T00:38:32.074769",
     "exception": false,
     "start_time": "2023-11-14T00:38:21.709784",
     "status": "completed"
    },
    "tags": []
   },
   "outputs": [],
   "source": [
    "cc_data = pd.read_csv('/kaggle/input/credit-card-fraud-detection-dataset-2023/creditcard_2023.csv')"
   ]
  },
  {
   "cell_type": "markdown",
   "id": "22b28732",
   "metadata": {
    "papermill": {
     "duration": 0.005576,
     "end_time": "2023-11-14T00:38:32.086531",
     "exception": false,
     "start_time": "2023-11-14T00:38:32.080955",
     "status": "completed"
    },
    "tags": []
   },
   "source": [
    "# Explore the data"
   ]
  },
  {
   "cell_type": "code",
   "execution_count": 3,
   "id": "f12a5b23",
   "metadata": {
    "execution": {
     "iopub.execute_input": "2023-11-14T00:38:32.100235Z",
     "iopub.status.busy": "2023-11-14T00:38:32.099750Z",
     "iopub.status.idle": "2023-11-14T00:38:32.105466Z",
     "shell.execute_reply": "2023-11-14T00:38:32.104394Z"
    },
    "papermill": {
     "duration": 0.015623,
     "end_time": "2023-11-14T00:38:32.107764",
     "exception": false,
     "start_time": "2023-11-14T00:38:32.092141",
     "status": "completed"
    },
    "tags": []
   },
   "outputs": [
    {
     "name": "stdout",
     "output_type": "stream",
     "text": [
      "Shape of data: (568630, 31)\n"
     ]
    }
   ],
   "source": [
    "# Get the shape of the data. \n",
    "print(\"Shape of data:\", cc_data.shape)"
   ]
  },
  {
   "cell_type": "code",
   "execution_count": 4,
   "id": "176091e0",
   "metadata": {
    "execution": {
     "iopub.execute_input": "2023-11-14T00:38:32.121298Z",
     "iopub.status.busy": "2023-11-14T00:38:32.120822Z",
     "iopub.status.idle": "2023-11-14T00:38:32.163126Z",
     "shell.execute_reply": "2023-11-14T00:38:32.161622Z"
    },
    "papermill": {
     "duration": 0.052091,
     "end_time": "2023-11-14T00:38:32.165659",
     "exception": false,
     "start_time": "2023-11-14T00:38:32.113568",
     "status": "completed"
    },
    "tags": []
   },
   "outputs": [
    {
     "data": {
      "text/html": [
       "<div>\n",
       "<style scoped>\n",
       "    .dataframe tbody tr th:only-of-type {\n",
       "        vertical-align: middle;\n",
       "    }\n",
       "\n",
       "    .dataframe tbody tr th {\n",
       "        vertical-align: top;\n",
       "    }\n",
       "\n",
       "    .dataframe thead th {\n",
       "        text-align: right;\n",
       "    }\n",
       "</style>\n",
       "<table border=\"1\" class=\"dataframe\">\n",
       "  <thead>\n",
       "    <tr style=\"text-align: right;\">\n",
       "      <th></th>\n",
       "      <th>id</th>\n",
       "      <th>V1</th>\n",
       "      <th>V2</th>\n",
       "      <th>V3</th>\n",
       "      <th>V4</th>\n",
       "      <th>V5</th>\n",
       "      <th>V6</th>\n",
       "      <th>V7</th>\n",
       "      <th>V8</th>\n",
       "      <th>V9</th>\n",
       "      <th>...</th>\n",
       "      <th>V21</th>\n",
       "      <th>V22</th>\n",
       "      <th>V23</th>\n",
       "      <th>V24</th>\n",
       "      <th>V25</th>\n",
       "      <th>V26</th>\n",
       "      <th>V27</th>\n",
       "      <th>V28</th>\n",
       "      <th>Amount</th>\n",
       "      <th>Class</th>\n",
       "    </tr>\n",
       "  </thead>\n",
       "  <tbody>\n",
       "    <tr>\n",
       "      <th>0</th>\n",
       "      <td>0</td>\n",
       "      <td>-0.260648</td>\n",
       "      <td>-0.469648</td>\n",
       "      <td>2.496266</td>\n",
       "      <td>-0.083724</td>\n",
       "      <td>0.129681</td>\n",
       "      <td>0.732898</td>\n",
       "      <td>0.519014</td>\n",
       "      <td>-0.130006</td>\n",
       "      <td>0.727159</td>\n",
       "      <td>...</td>\n",
       "      <td>-0.110552</td>\n",
       "      <td>0.217606</td>\n",
       "      <td>-0.134794</td>\n",
       "      <td>0.165959</td>\n",
       "      <td>0.126280</td>\n",
       "      <td>-0.434824</td>\n",
       "      <td>-0.081230</td>\n",
       "      <td>-0.151045</td>\n",
       "      <td>17982.10</td>\n",
       "      <td>0</td>\n",
       "    </tr>\n",
       "    <tr>\n",
       "      <th>1</th>\n",
       "      <td>1</td>\n",
       "      <td>0.985100</td>\n",
       "      <td>-0.356045</td>\n",
       "      <td>0.558056</td>\n",
       "      <td>-0.429654</td>\n",
       "      <td>0.277140</td>\n",
       "      <td>0.428605</td>\n",
       "      <td>0.406466</td>\n",
       "      <td>-0.133118</td>\n",
       "      <td>0.347452</td>\n",
       "      <td>...</td>\n",
       "      <td>-0.194936</td>\n",
       "      <td>-0.605761</td>\n",
       "      <td>0.079469</td>\n",
       "      <td>-0.577395</td>\n",
       "      <td>0.190090</td>\n",
       "      <td>0.296503</td>\n",
       "      <td>-0.248052</td>\n",
       "      <td>-0.064512</td>\n",
       "      <td>6531.37</td>\n",
       "      <td>0</td>\n",
       "    </tr>\n",
       "    <tr>\n",
       "      <th>2</th>\n",
       "      <td>2</td>\n",
       "      <td>-0.260272</td>\n",
       "      <td>-0.949385</td>\n",
       "      <td>1.728538</td>\n",
       "      <td>-0.457986</td>\n",
       "      <td>0.074062</td>\n",
       "      <td>1.419481</td>\n",
       "      <td>0.743511</td>\n",
       "      <td>-0.095576</td>\n",
       "      <td>-0.261297</td>\n",
       "      <td>...</td>\n",
       "      <td>-0.005020</td>\n",
       "      <td>0.702906</td>\n",
       "      <td>0.945045</td>\n",
       "      <td>-1.154666</td>\n",
       "      <td>-0.605564</td>\n",
       "      <td>-0.312895</td>\n",
       "      <td>-0.300258</td>\n",
       "      <td>-0.244718</td>\n",
       "      <td>2513.54</td>\n",
       "      <td>0</td>\n",
       "    </tr>\n",
       "    <tr>\n",
       "      <th>3</th>\n",
       "      <td>3</td>\n",
       "      <td>-0.152152</td>\n",
       "      <td>-0.508959</td>\n",
       "      <td>1.746840</td>\n",
       "      <td>-1.090178</td>\n",
       "      <td>0.249486</td>\n",
       "      <td>1.143312</td>\n",
       "      <td>0.518269</td>\n",
       "      <td>-0.065130</td>\n",
       "      <td>-0.205698</td>\n",
       "      <td>...</td>\n",
       "      <td>-0.146927</td>\n",
       "      <td>-0.038212</td>\n",
       "      <td>-0.214048</td>\n",
       "      <td>-1.893131</td>\n",
       "      <td>1.003963</td>\n",
       "      <td>-0.515950</td>\n",
       "      <td>-0.165316</td>\n",
       "      <td>0.048424</td>\n",
       "      <td>5384.44</td>\n",
       "      <td>0</td>\n",
       "    </tr>\n",
       "    <tr>\n",
       "      <th>4</th>\n",
       "      <td>4</td>\n",
       "      <td>-0.206820</td>\n",
       "      <td>-0.165280</td>\n",
       "      <td>1.527053</td>\n",
       "      <td>-0.448293</td>\n",
       "      <td>0.106125</td>\n",
       "      <td>0.530549</td>\n",
       "      <td>0.658849</td>\n",
       "      <td>-0.212660</td>\n",
       "      <td>1.049921</td>\n",
       "      <td>...</td>\n",
       "      <td>-0.106984</td>\n",
       "      <td>0.729727</td>\n",
       "      <td>-0.161666</td>\n",
       "      <td>0.312561</td>\n",
       "      <td>-0.414116</td>\n",
       "      <td>1.071126</td>\n",
       "      <td>0.023712</td>\n",
       "      <td>0.419117</td>\n",
       "      <td>14278.97</td>\n",
       "      <td>0</td>\n",
       "    </tr>\n",
       "  </tbody>\n",
       "</table>\n",
       "<p>5 rows × 31 columns</p>\n",
       "</div>"
      ],
      "text/plain": [
       "   id        V1        V2        V3        V4        V5        V6        V7  \\\n",
       "0   0 -0.260648 -0.469648  2.496266 -0.083724  0.129681  0.732898  0.519014   \n",
       "1   1  0.985100 -0.356045  0.558056 -0.429654  0.277140  0.428605  0.406466   \n",
       "2   2 -0.260272 -0.949385  1.728538 -0.457986  0.074062  1.419481  0.743511   \n",
       "3   3 -0.152152 -0.508959  1.746840 -1.090178  0.249486  1.143312  0.518269   \n",
       "4   4 -0.206820 -0.165280  1.527053 -0.448293  0.106125  0.530549  0.658849   \n",
       "\n",
       "         V8        V9  ...       V21       V22       V23       V24       V25  \\\n",
       "0 -0.130006  0.727159  ... -0.110552  0.217606 -0.134794  0.165959  0.126280   \n",
       "1 -0.133118  0.347452  ... -0.194936 -0.605761  0.079469 -0.577395  0.190090   \n",
       "2 -0.095576 -0.261297  ... -0.005020  0.702906  0.945045 -1.154666 -0.605564   \n",
       "3 -0.065130 -0.205698  ... -0.146927 -0.038212 -0.214048 -1.893131  1.003963   \n",
       "4 -0.212660  1.049921  ... -0.106984  0.729727 -0.161666  0.312561 -0.414116   \n",
       "\n",
       "        V26       V27       V28    Amount  Class  \n",
       "0 -0.434824 -0.081230 -0.151045  17982.10      0  \n",
       "1  0.296503 -0.248052 -0.064512   6531.37      0  \n",
       "2 -0.312895 -0.300258 -0.244718   2513.54      0  \n",
       "3 -0.515950 -0.165316  0.048424   5384.44      0  \n",
       "4  1.071126  0.023712  0.419117  14278.97      0  \n",
       "\n",
       "[5 rows x 31 columns]"
      ]
     },
     "execution_count": 4,
     "metadata": {},
     "output_type": "execute_result"
    }
   ],
   "source": [
    "# See the first few lines of the data.\n",
    "cc_data.head()"
   ]
  },
  {
   "cell_type": "code",
   "execution_count": 5,
   "id": "51a718ea",
   "metadata": {
    "execution": {
     "iopub.execute_input": "2023-11-14T00:38:32.180258Z",
     "iopub.status.busy": "2023-11-14T00:38:32.179865Z",
     "iopub.status.idle": "2023-11-14T00:38:33.114998Z",
     "shell.execute_reply": "2023-11-14T00:38:33.113927Z"
    },
    "papermill": {
     "duration": 0.945017,
     "end_time": "2023-11-14T00:38:33.117267",
     "exception": false,
     "start_time": "2023-11-14T00:38:32.172250",
     "status": "completed"
    },
    "tags": []
   },
   "outputs": [
    {
     "data": {
      "text/html": [
       "<div>\n",
       "<style scoped>\n",
       "    .dataframe tbody tr th:only-of-type {\n",
       "        vertical-align: middle;\n",
       "    }\n",
       "\n",
       "    .dataframe tbody tr th {\n",
       "        vertical-align: top;\n",
       "    }\n",
       "\n",
       "    .dataframe thead th {\n",
       "        text-align: right;\n",
       "    }\n",
       "</style>\n",
       "<table border=\"1\" class=\"dataframe\">\n",
       "  <thead>\n",
       "    <tr style=\"text-align: right;\">\n",
       "      <th></th>\n",
       "      <th>id</th>\n",
       "      <th>V1</th>\n",
       "      <th>V2</th>\n",
       "      <th>V3</th>\n",
       "      <th>V4</th>\n",
       "      <th>V5</th>\n",
       "      <th>V6</th>\n",
       "      <th>V7</th>\n",
       "      <th>V8</th>\n",
       "      <th>V9</th>\n",
       "      <th>...</th>\n",
       "      <th>V21</th>\n",
       "      <th>V22</th>\n",
       "      <th>V23</th>\n",
       "      <th>V24</th>\n",
       "      <th>V25</th>\n",
       "      <th>V26</th>\n",
       "      <th>V27</th>\n",
       "      <th>V28</th>\n",
       "      <th>Amount</th>\n",
       "      <th>Class</th>\n",
       "    </tr>\n",
       "  </thead>\n",
       "  <tbody>\n",
       "    <tr>\n",
       "      <th>count</th>\n",
       "      <td>568630.000000</td>\n",
       "      <td>5.686300e+05</td>\n",
       "      <td>5.686300e+05</td>\n",
       "      <td>5.686300e+05</td>\n",
       "      <td>5.686300e+05</td>\n",
       "      <td>5.686300e+05</td>\n",
       "      <td>5.686300e+05</td>\n",
       "      <td>5.686300e+05</td>\n",
       "      <td>5.686300e+05</td>\n",
       "      <td>5.686300e+05</td>\n",
       "      <td>...</td>\n",
       "      <td>5.686300e+05</td>\n",
       "      <td>5.686300e+05</td>\n",
       "      <td>5.686300e+05</td>\n",
       "      <td>5.686300e+05</td>\n",
       "      <td>5.686300e+05</td>\n",
       "      <td>5.686300e+05</td>\n",
       "      <td>5.686300e+05</td>\n",
       "      <td>5.686300e+05</td>\n",
       "      <td>568630.000000</td>\n",
       "      <td>568630.0</td>\n",
       "    </tr>\n",
       "    <tr>\n",
       "      <th>mean</th>\n",
       "      <td>284314.500000</td>\n",
       "      <td>-5.638058e-17</td>\n",
       "      <td>-1.319545e-16</td>\n",
       "      <td>-3.518788e-17</td>\n",
       "      <td>-2.879008e-17</td>\n",
       "      <td>7.997245e-18</td>\n",
       "      <td>-3.958636e-17</td>\n",
       "      <td>-3.198898e-17</td>\n",
       "      <td>2.109273e-17</td>\n",
       "      <td>3.998623e-17</td>\n",
       "      <td>...</td>\n",
       "      <td>4.758361e-17</td>\n",
       "      <td>3.948640e-18</td>\n",
       "      <td>6.194741e-18</td>\n",
       "      <td>-2.799036e-18</td>\n",
       "      <td>-3.178905e-17</td>\n",
       "      <td>-7.497417e-18</td>\n",
       "      <td>-3.598760e-17</td>\n",
       "      <td>2.609101e-17</td>\n",
       "      <td>12041.957635</td>\n",
       "      <td>0.5</td>\n",
       "    </tr>\n",
       "    <tr>\n",
       "      <th>std</th>\n",
       "      <td>164149.486122</td>\n",
       "      <td>1.000001e+00</td>\n",
       "      <td>1.000001e+00</td>\n",
       "      <td>1.000001e+00</td>\n",
       "      <td>1.000001e+00</td>\n",
       "      <td>1.000001e+00</td>\n",
       "      <td>1.000001e+00</td>\n",
       "      <td>1.000001e+00</td>\n",
       "      <td>1.000001e+00</td>\n",
       "      <td>1.000001e+00</td>\n",
       "      <td>...</td>\n",
       "      <td>1.000001e+00</td>\n",
       "      <td>1.000001e+00</td>\n",
       "      <td>1.000001e+00</td>\n",
       "      <td>1.000001e+00</td>\n",
       "      <td>1.000001e+00</td>\n",
       "      <td>1.000001e+00</td>\n",
       "      <td>1.000001e+00</td>\n",
       "      <td>1.000001e+00</td>\n",
       "      <td>6919.644449</td>\n",
       "      <td>0.5</td>\n",
       "    </tr>\n",
       "    <tr>\n",
       "      <th>min</th>\n",
       "      <td>0.000000</td>\n",
       "      <td>-3.495584e+00</td>\n",
       "      <td>-4.996657e+01</td>\n",
       "      <td>-3.183760e+00</td>\n",
       "      <td>-4.951222e+00</td>\n",
       "      <td>-9.952786e+00</td>\n",
       "      <td>-2.111111e+01</td>\n",
       "      <td>-4.351839e+00</td>\n",
       "      <td>-1.075634e+01</td>\n",
       "      <td>-3.751919e+00</td>\n",
       "      <td>...</td>\n",
       "      <td>-1.938252e+01</td>\n",
       "      <td>-7.734798e+00</td>\n",
       "      <td>-3.029545e+01</td>\n",
       "      <td>-4.067968e+00</td>\n",
       "      <td>-1.361263e+01</td>\n",
       "      <td>-8.226969e+00</td>\n",
       "      <td>-1.049863e+01</td>\n",
       "      <td>-3.903524e+01</td>\n",
       "      <td>50.010000</td>\n",
       "      <td>0.0</td>\n",
       "    </tr>\n",
       "    <tr>\n",
       "      <th>25%</th>\n",
       "      <td>142157.250000</td>\n",
       "      <td>-5.652859e-01</td>\n",
       "      <td>-4.866777e-01</td>\n",
       "      <td>-6.492987e-01</td>\n",
       "      <td>-6.560203e-01</td>\n",
       "      <td>-2.934955e-01</td>\n",
       "      <td>-4.458712e-01</td>\n",
       "      <td>-2.835329e-01</td>\n",
       "      <td>-1.922572e-01</td>\n",
       "      <td>-5.687446e-01</td>\n",
       "      <td>...</td>\n",
       "      <td>-1.664408e-01</td>\n",
       "      <td>-4.904892e-01</td>\n",
       "      <td>-2.376289e-01</td>\n",
       "      <td>-6.515801e-01</td>\n",
       "      <td>-5.541485e-01</td>\n",
       "      <td>-6.318948e-01</td>\n",
       "      <td>-3.049607e-01</td>\n",
       "      <td>-2.318783e-01</td>\n",
       "      <td>6054.892500</td>\n",
       "      <td>0.0</td>\n",
       "    </tr>\n",
       "    <tr>\n",
       "      <th>50%</th>\n",
       "      <td>284314.500000</td>\n",
       "      <td>-9.363846e-02</td>\n",
       "      <td>-1.358939e-01</td>\n",
       "      <td>3.528579e-04</td>\n",
       "      <td>-7.376152e-02</td>\n",
       "      <td>8.108788e-02</td>\n",
       "      <td>7.871758e-02</td>\n",
       "      <td>2.333659e-01</td>\n",
       "      <td>-1.145242e-01</td>\n",
       "      <td>9.252647e-02</td>\n",
       "      <td>...</td>\n",
       "      <td>-3.743065e-02</td>\n",
       "      <td>-2.732881e-02</td>\n",
       "      <td>-5.968903e-02</td>\n",
       "      <td>1.590123e-02</td>\n",
       "      <td>-8.193162e-03</td>\n",
       "      <td>-1.189208e-02</td>\n",
       "      <td>-1.729111e-01</td>\n",
       "      <td>-1.392973e-02</td>\n",
       "      <td>12030.150000</td>\n",
       "      <td>0.5</td>\n",
       "    </tr>\n",
       "    <tr>\n",
       "      <th>75%</th>\n",
       "      <td>426471.750000</td>\n",
       "      <td>8.326582e-01</td>\n",
       "      <td>3.435552e-01</td>\n",
       "      <td>6.285380e-01</td>\n",
       "      <td>7.070047e-01</td>\n",
       "      <td>4.397368e-01</td>\n",
       "      <td>4.977881e-01</td>\n",
       "      <td>5.259548e-01</td>\n",
       "      <td>4.729905e-02</td>\n",
       "      <td>5.592621e-01</td>\n",
       "      <td>...</td>\n",
       "      <td>1.479787e-01</td>\n",
       "      <td>4.638817e-01</td>\n",
       "      <td>1.557153e-01</td>\n",
       "      <td>7.007374e-01</td>\n",
       "      <td>5.500147e-01</td>\n",
       "      <td>6.728879e-01</td>\n",
       "      <td>3.340230e-01</td>\n",
       "      <td>4.095903e-01</td>\n",
       "      <td>18036.330000</td>\n",
       "      <td>1.0</td>\n",
       "    </tr>\n",
       "    <tr>\n",
       "      <th>max</th>\n",
       "      <td>568629.000000</td>\n",
       "      <td>2.229046e+00</td>\n",
       "      <td>4.361865e+00</td>\n",
       "      <td>1.412583e+01</td>\n",
       "      <td>3.201536e+00</td>\n",
       "      <td>4.271689e+01</td>\n",
       "      <td>2.616840e+01</td>\n",
       "      <td>2.178730e+02</td>\n",
       "      <td>5.958040e+00</td>\n",
       "      <td>2.027006e+01</td>\n",
       "      <td>...</td>\n",
       "      <td>8.087080e+00</td>\n",
       "      <td>1.263251e+01</td>\n",
       "      <td>3.170763e+01</td>\n",
       "      <td>1.296564e+01</td>\n",
       "      <td>1.462151e+01</td>\n",
       "      <td>5.623285e+00</td>\n",
       "      <td>1.132311e+02</td>\n",
       "      <td>7.725594e+01</td>\n",
       "      <td>24039.930000</td>\n",
       "      <td>1.0</td>\n",
       "    </tr>\n",
       "  </tbody>\n",
       "</table>\n",
       "<p>8 rows × 31 columns</p>\n",
       "</div>"
      ],
      "text/plain": [
       "                  id            V1            V2            V3            V4  \\\n",
       "count  568630.000000  5.686300e+05  5.686300e+05  5.686300e+05  5.686300e+05   \n",
       "mean   284314.500000 -5.638058e-17 -1.319545e-16 -3.518788e-17 -2.879008e-17   \n",
       "std    164149.486122  1.000001e+00  1.000001e+00  1.000001e+00  1.000001e+00   \n",
       "min         0.000000 -3.495584e+00 -4.996657e+01 -3.183760e+00 -4.951222e+00   \n",
       "25%    142157.250000 -5.652859e-01 -4.866777e-01 -6.492987e-01 -6.560203e-01   \n",
       "50%    284314.500000 -9.363846e-02 -1.358939e-01  3.528579e-04 -7.376152e-02   \n",
       "75%    426471.750000  8.326582e-01  3.435552e-01  6.285380e-01  7.070047e-01   \n",
       "max    568629.000000  2.229046e+00  4.361865e+00  1.412583e+01  3.201536e+00   \n",
       "\n",
       "                 V5            V6            V7            V8            V9  \\\n",
       "count  5.686300e+05  5.686300e+05  5.686300e+05  5.686300e+05  5.686300e+05   \n",
       "mean   7.997245e-18 -3.958636e-17 -3.198898e-17  2.109273e-17  3.998623e-17   \n",
       "std    1.000001e+00  1.000001e+00  1.000001e+00  1.000001e+00  1.000001e+00   \n",
       "min   -9.952786e+00 -2.111111e+01 -4.351839e+00 -1.075634e+01 -3.751919e+00   \n",
       "25%   -2.934955e-01 -4.458712e-01 -2.835329e-01 -1.922572e-01 -5.687446e-01   \n",
       "50%    8.108788e-02  7.871758e-02  2.333659e-01 -1.145242e-01  9.252647e-02   \n",
       "75%    4.397368e-01  4.977881e-01  5.259548e-01  4.729905e-02  5.592621e-01   \n",
       "max    4.271689e+01  2.616840e+01  2.178730e+02  5.958040e+00  2.027006e+01   \n",
       "\n",
       "       ...           V21           V22           V23           V24  \\\n",
       "count  ...  5.686300e+05  5.686300e+05  5.686300e+05  5.686300e+05   \n",
       "mean   ...  4.758361e-17  3.948640e-18  6.194741e-18 -2.799036e-18   \n",
       "std    ...  1.000001e+00  1.000001e+00  1.000001e+00  1.000001e+00   \n",
       "min    ... -1.938252e+01 -7.734798e+00 -3.029545e+01 -4.067968e+00   \n",
       "25%    ... -1.664408e-01 -4.904892e-01 -2.376289e-01 -6.515801e-01   \n",
       "50%    ... -3.743065e-02 -2.732881e-02 -5.968903e-02  1.590123e-02   \n",
       "75%    ...  1.479787e-01  4.638817e-01  1.557153e-01  7.007374e-01   \n",
       "max    ...  8.087080e+00  1.263251e+01  3.170763e+01  1.296564e+01   \n",
       "\n",
       "                V25           V26           V27           V28         Amount  \\\n",
       "count  5.686300e+05  5.686300e+05  5.686300e+05  5.686300e+05  568630.000000   \n",
       "mean  -3.178905e-17 -7.497417e-18 -3.598760e-17  2.609101e-17   12041.957635   \n",
       "std    1.000001e+00  1.000001e+00  1.000001e+00  1.000001e+00    6919.644449   \n",
       "min   -1.361263e+01 -8.226969e+00 -1.049863e+01 -3.903524e+01      50.010000   \n",
       "25%   -5.541485e-01 -6.318948e-01 -3.049607e-01 -2.318783e-01    6054.892500   \n",
       "50%   -8.193162e-03 -1.189208e-02 -1.729111e-01 -1.392973e-02   12030.150000   \n",
       "75%    5.500147e-01  6.728879e-01  3.340230e-01  4.095903e-01   18036.330000   \n",
       "max    1.462151e+01  5.623285e+00  1.132311e+02  7.725594e+01   24039.930000   \n",
       "\n",
       "          Class  \n",
       "count  568630.0  \n",
       "mean        0.5  \n",
       "std         0.5  \n",
       "min         0.0  \n",
       "25%         0.0  \n",
       "50%         0.5  \n",
       "75%         1.0  \n",
       "max         1.0  \n",
       "\n",
       "[8 rows x 31 columns]"
      ]
     },
     "execution_count": 5,
     "metadata": {},
     "output_type": "execute_result"
    }
   ],
   "source": [
    "# Get a summary of the data. \n",
    "cc_data.describe()"
   ]
  },
  {
   "cell_type": "code",
   "execution_count": 6,
   "id": "1c6c2124",
   "metadata": {
    "execution": {
     "iopub.execute_input": "2023-11-14T00:38:33.132332Z",
     "iopub.status.busy": "2023-11-14T00:38:33.131679Z",
     "iopub.status.idle": "2023-11-14T00:38:33.148180Z",
     "shell.execute_reply": "2023-11-14T00:38:33.147469Z"
    },
    "papermill": {
     "duration": 0.026956,
     "end_time": "2023-11-14T00:38:33.150737",
     "exception": false,
     "start_time": "2023-11-14T00:38:33.123781",
     "status": "completed"
    },
    "tags": []
   },
   "outputs": [
    {
     "data": {
      "text/plain": [
       "Class\n",
       "0    284315\n",
       "1    284315\n",
       "Name: count, dtype: int64"
      ]
     },
     "execution_count": 6,
     "metadata": {},
     "output_type": "execute_result"
    }
   ],
   "source": [
    "# Find the ratio of the fraudlent and normal cases.\n",
    "cc_data['Class'].value_counts()"
   ]
  },
  {
   "cell_type": "markdown",
   "id": "a17d7074",
   "metadata": {
    "papermill": {
     "duration": 0.00796,
     "end_time": "2023-11-14T00:38:33.169652",
     "exception": false,
     "start_time": "2023-11-14T00:38:33.161692",
     "status": "completed"
    },
    "tags": []
   },
   "source": [
    "The data is comprised of columns: id, 28 features (V1-V28) about the transaction (e.g., time, location, etc.), the Amount, and the Class (fraudulent (1) or not (0)). Nothing seems to be weird about the summaries of the columns. Turns out that the data is already in equal proportions so SMOTE does not need to be applied. "
   ]
  },
  {
   "cell_type": "markdown",
   "id": "dcd17777",
   "metadata": {
    "papermill": {
     "duration": 0.00627,
     "end_time": "2023-11-14T00:38:33.182718",
     "exception": false,
     "start_time": "2023-11-14T00:38:33.176448",
     "status": "completed"
    },
    "tags": []
   },
   "source": [
    "# Data Preprocessing"
   ]
  },
  {
   "cell_type": "code",
   "execution_count": 7,
   "id": "d5574d1e",
   "metadata": {
    "execution": {
     "iopub.execute_input": "2023-11-14T00:38:33.197921Z",
     "iopub.status.busy": "2023-11-14T00:38:33.197310Z",
     "iopub.status.idle": "2023-11-14T00:38:35.930876Z",
     "shell.execute_reply": "2023-11-14T00:38:35.929466Z"
    },
    "papermill": {
     "duration": 2.743897,
     "end_time": "2023-11-14T00:38:35.933116",
     "exception": false,
     "start_time": "2023-11-14T00:38:33.189219",
     "status": "completed"
    },
    "tags": []
   },
   "outputs": [
    {
     "data": {
      "text/html": [
       "<div>\n",
       "<style scoped>\n",
       "    .dataframe tbody tr th:only-of-type {\n",
       "        vertical-align: middle;\n",
       "    }\n",
       "\n",
       "    .dataframe tbody tr th {\n",
       "        vertical-align: top;\n",
       "    }\n",
       "\n",
       "    .dataframe thead th {\n",
       "        text-align: right;\n",
       "    }\n",
       "</style>\n",
       "<table border=\"1\" class=\"dataframe\">\n",
       "  <thead>\n",
       "    <tr style=\"text-align: right;\">\n",
       "      <th></th>\n",
       "      <th>id</th>\n",
       "      <th>V1</th>\n",
       "      <th>V2</th>\n",
       "      <th>V3</th>\n",
       "      <th>V4</th>\n",
       "      <th>V5</th>\n",
       "      <th>V6</th>\n",
       "      <th>V7</th>\n",
       "      <th>V8</th>\n",
       "      <th>V9</th>\n",
       "      <th>...</th>\n",
       "      <th>V21</th>\n",
       "      <th>V22</th>\n",
       "      <th>V23</th>\n",
       "      <th>V24</th>\n",
       "      <th>V25</th>\n",
       "      <th>V26</th>\n",
       "      <th>V27</th>\n",
       "      <th>V28</th>\n",
       "      <th>Amount</th>\n",
       "      <th>Class</th>\n",
       "    </tr>\n",
       "  </thead>\n",
       "  <tbody>\n",
       "  </tbody>\n",
       "</table>\n",
       "<p>0 rows × 31 columns</p>\n",
       "</div>"
      ],
      "text/plain": [
       "Empty DataFrame\n",
       "Columns: [id, V1, V2, V3, V4, V5, V6, V7, V8, V9, V10, V11, V12, V13, V14, V15, V16, V17, V18, V19, V20, V21, V22, V23, V24, V25, V26, V27, V28, Amount, Class]\n",
       "Index: []\n",
       "\n",
       "[0 rows x 31 columns]"
      ]
     },
     "execution_count": 7,
     "metadata": {},
     "output_type": "execute_result"
    }
   ],
   "source": [
    "# Check for any duplicates.\n",
    "cc_data[cc_data.duplicated()]"
   ]
  },
  {
   "cell_type": "code",
   "execution_count": 8,
   "id": "6a851c19",
   "metadata": {
    "execution": {
     "iopub.execute_input": "2023-11-14T00:38:35.948434Z",
     "iopub.status.busy": "2023-11-14T00:38:35.948053Z",
     "iopub.status.idle": "2023-11-14T00:38:35.986491Z",
     "shell.execute_reply": "2023-11-14T00:38:35.985270Z"
    },
    "papermill": {
     "duration": 0.049105,
     "end_time": "2023-11-14T00:38:35.988964",
     "exception": false,
     "start_time": "2023-11-14T00:38:35.939859",
     "status": "completed"
    },
    "tags": []
   },
   "outputs": [
    {
     "data": {
      "text/plain": [
       "id        0\n",
       "V1        0\n",
       "V2        0\n",
       "V3        0\n",
       "V4        0\n",
       "V5        0\n",
       "V6        0\n",
       "V7        0\n",
       "V8        0\n",
       "V9        0\n",
       "V10       0\n",
       "V11       0\n",
       "V12       0\n",
       "V13       0\n",
       "V14       0\n",
       "V15       0\n",
       "V16       0\n",
       "V17       0\n",
       "V18       0\n",
       "V19       0\n",
       "V20       0\n",
       "V21       0\n",
       "V22       0\n",
       "V23       0\n",
       "V24       0\n",
       "V25       0\n",
       "V26       0\n",
       "V27       0\n",
       "V28       0\n",
       "Amount    0\n",
       "Class     0\n",
       "dtype: int64"
      ]
     },
     "execution_count": 8,
     "metadata": {},
     "output_type": "execute_result"
    }
   ],
   "source": [
    "# Check for any null values. \n",
    "cc_data.isnull().sum()"
   ]
  },
  {
   "cell_type": "markdown",
   "id": "abcc1df9",
   "metadata": {
    "papermill": {
     "duration": 0.006782,
     "end_time": "2023-11-14T00:38:36.002689",
     "exception": false,
     "start_time": "2023-11-14T00:38:35.995907",
     "status": "completed"
    },
    "tags": []
   },
   "source": [
    "No duplicates or null values were found. The data is already in the format that I want. No need to reduce it or change it in anyway. "
   ]
  },
  {
   "cell_type": "markdown",
   "id": "361eb414",
   "metadata": {
    "papermill": {
     "duration": 0.006529,
     "end_time": "2023-11-14T00:38:36.016076",
     "exception": false,
     "start_time": "2023-11-14T00:38:36.009547",
     "status": "completed"
    },
    "tags": []
   },
   "source": [
    "# Data Modeling"
   ]
  },
  {
   "cell_type": "code",
   "execution_count": 9,
   "id": "99b56345",
   "metadata": {
    "execution": {
     "iopub.execute_input": "2023-11-14T00:38:36.031534Z",
     "iopub.status.busy": "2023-11-14T00:38:36.031130Z",
     "iopub.status.idle": "2023-11-14T00:38:38.254295Z",
     "shell.execute_reply": "2023-11-14T00:38:38.252897Z"
    },
    "papermill": {
     "duration": 2.234308,
     "end_time": "2023-11-14T00:38:38.257090",
     "exception": false,
     "start_time": "2023-11-14T00:38:36.022782",
     "status": "completed"
    },
    "tags": []
   },
   "outputs": [],
   "source": [
    "import time\n",
    "import matplotlib.pyplot as plt\n",
    "import seaborn as sns\n",
    "from sklearn.model_selection import train_test_split\n",
    "from sklearn.ensemble import RandomForestClassifier\n",
    "from sklearn.naive_bayes import GaussianNB\n",
    "from sklearn.metrics import confusion_matrix, classification_report\n",
    "from sklearn.ensemble import VotingClassifier"
   ]
  },
  {
   "cell_type": "markdown",
   "id": "97a03f6f",
   "metadata": {
    "papermill": {
     "duration": 0.006635,
     "end_time": "2023-11-14T00:38:38.270809",
     "exception": false,
     "start_time": "2023-11-14T00:38:38.264174",
     "status": "completed"
    },
    "tags": []
   },
   "source": [
    "### Data splitting"
   ]
  },
  {
   "cell_type": "code",
   "execution_count": 10,
   "id": "923858a6",
   "metadata": {
    "execution": {
     "iopub.execute_input": "2023-11-14T00:38:38.287535Z",
     "iopub.status.busy": "2023-11-14T00:38:38.286769Z",
     "iopub.status.idle": "2023-11-14T00:38:38.724930Z",
     "shell.execute_reply": "2023-11-14T00:38:38.723322Z"
    },
    "papermill": {
     "duration": 0.44953,
     "end_time": "2023-11-14T00:38:38.727329",
     "exception": false,
     "start_time": "2023-11-14T00:38:38.277799",
     "status": "completed"
    },
    "tags": []
   },
   "outputs": [
    {
     "name": "stdout",
     "output_type": "stream",
     "text": [
      "Training set size: 511767\n",
      "Test set size: 56863\n",
      "Precentage of test dataset: 0.1111111111111111\n"
     ]
    }
   ],
   "source": [
    "# Separate the features and the class. \n",
    "x = cc_data.drop('Class', axis=1)  # Features\n",
    "y = cc_data['Class']  # Target variable\n",
    "\n",
    "# Split the data into training and test datasets. \n",
    "x_train, x_test, y_train, y_test = train_test_split(x, y, test_size=0.1, random_state=12345)\n",
    "\n",
    "print(\"Training set size:\", len(x_train))\n",
    "print(\"Test set size:\", len(x_test))\n",
    "print(\"Precentage of test dataset:\", len(x_test)/len(x_train))\n"
   ]
  },
  {
   "cell_type": "markdown",
   "id": "0364f976",
   "metadata": {
    "papermill": {
     "duration": 0.006614,
     "end_time": "2023-11-14T00:38:38.741015",
     "exception": false,
     "start_time": "2023-11-14T00:38:38.734401",
     "status": "completed"
    },
    "tags": []
   },
   "source": [
    "### Naive Bayes Model"
   ]
  },
  {
   "cell_type": "code",
   "execution_count": 11,
   "id": "9901a017",
   "metadata": {
    "execution": {
     "iopub.execute_input": "2023-11-14T00:38:38.757258Z",
     "iopub.status.busy": "2023-11-14T00:38:38.756781Z",
     "iopub.status.idle": "2023-11-14T00:38:39.703469Z",
     "shell.execute_reply": "2023-11-14T00:38:39.702521Z"
    },
    "papermill": {
     "duration": 0.957862,
     "end_time": "2023-11-14T00:38:39.705799",
     "exception": false,
     "start_time": "2023-11-14T00:38:38.747937",
     "status": "completed"
    },
    "tags": []
   },
   "outputs": [
    {
     "name": "stdout",
     "output_type": "stream",
     "text": [
      "Time taken for Naive Bayes:  0.5074734687805176 seconds\n",
      "Precision:  1.0\n",
      "Recall:  0.9880108607496738\n",
      "Specificity:  1.0\n",
      "Accuracy:  0.9940207164588573\n"
     ]
    },
    {
     "data": {
      "image/png": "[encoded data removed]",
      "text/plain": [
       "<Figure size 1000x700 with 2 Axes>"
      ]
     },
     "metadata": {},
     "output_type": "display_data"
    }
   ],
   "source": [
    "# Start the timer.\n",
    "start = time.time()\n",
    "\n",
    "# Create a Gaussian Naive Bayes classifier.\n",
    "clf_nb = GaussianNB()\n",
    "\n",
    "# Train the classifier.\n",
    "clf_nb.fit(x_train, y_train)\n",
    "\n",
    "# Predict the test set results.\n",
    "y_pred = clf_nb.predict(x_test)\n",
    "\n",
    "# Stop the timer and calculate the time it takes to run \n",
    "end = time.time()\n",
    "print(\"Time taken for Naive Bayes: \", end - start, \"seconds\")\n",
    "\n",
    "# Calculate the confusion matrix.\n",
    "cm = confusion_matrix(y_test, y_pred)\n",
    "\n",
    "# Plot the confusion matrix.\n",
    "plt.figure(figsize=(10,7))\n",
    "sns.heatmap(cm, annot=True, fmt='d')\n",
    "plt.xlabel('Predicted')\n",
    "plt.ylabel('Truth')\n",
    "\n",
    "# Calculate precision, recall, specificity, and accuracy.\n",
    "report = classification_report(y_test, y_pred, output_dict=True)\n",
    "print('Precision: ', report['1']['precision'])\n",
    "print('Recall: ', report['1']['recall'])\n",
    "print('Specificity: ', report['0']['recall'])\n",
    "print('Accuracy: ', report['accuracy'])\n"
   ]
  },
  {
   "cell_type": "markdown",
   "id": "f2f6c061",
   "metadata": {
    "papermill": {
     "duration": 0.007216,
     "end_time": "2023-11-14T00:38:39.720600",
     "exception": false,
     "start_time": "2023-11-14T00:38:39.713384",
     "status": "completed"
    },
    "tags": []
   },
   "source": [
    "The time taken for Naive Bayes model: the Naive Bayes model took approximately 0.390 seconds to train.\n",
    "\n",
    "It's called a confusion matrix because it shows the number and types of misclassifications, including:\n",
    "\n",
    "- True Positives (TP): These are cases in which the model predicted '1' (fraud), and the true label is also '1'. The model has 28019 true positives.\n",
    "- True Negatives (TN): These are cases in which the model predicted '0' (not fraud), and the true label is also '0'. The model has 28504 true negatives.\n",
    "- False Positives (FP): These are cases in which the model predicted '1', but the true label is '0'. The model has 0 false positives.\n",
    "- False Negatives (FN): These are cases in which the model predicted '0', but the true label is '1'. The model has 340 false negatives.\n",
    "\n",
    "Precision is the ratio of correctly predicted positive observations to the total predicted positives. High precision relates to the low false positive rate. The model has a precision of 1.0, which means that every instance that it predicted as 'fraud' was indeed fraud.\n",
    "\n",
    "Recall (Sensitivity) is the ratio of correctly predicted positive observations to all observations in actual class '1'. The model has a recall of 0.988, which means that it correctly identified 98.8% of all fraudulent transactions.\n",
    "\n",
    "Specificity is the ratio of correctly predicted negative observations to all observations in actual class '0'. The model has a specificity of 1.0, which means that it correctly identified all non-fraudulent transactions.\n",
    "\n",
    "Accuracy is the most intuitive performance measure. It is simply a ratio of correctly predicted observations to the total observations. The model has an accuracy of 0.994, which means that it correctly classified 99.4% of all transactions.\n",
    "\n",
    "These results indicate that the Naive Bayes model is performing well on the test data. It's correctly identifying all non-fraudulent transactions and 98.8% of fraudulent transactions. "
   ]
  },
  {
   "cell_type": "markdown",
   "id": "4ce07784",
   "metadata": {
    "papermill": {
     "duration": 0.007227,
     "end_time": "2023-11-14T00:38:39.735035",
     "exception": false,
     "start_time": "2023-11-14T00:38:39.727808",
     "status": "completed"
    },
    "tags": []
   },
   "source": [
    "### Random Forest Model"
   ]
  },
  {
   "cell_type": "code",
   "execution_count": 12,
   "id": "e0fb2463",
   "metadata": {
    "execution": {
     "iopub.execute_input": "2023-11-14T00:38:39.751895Z",
     "iopub.status.busy": "2023-11-14T00:38:39.751440Z",
     "iopub.status.idle": "2023-11-14T00:46:08.483791Z",
     "shell.execute_reply": "2023-11-14T00:46:08.482172Z"
    },
    "papermill": {
     "duration": 448.744016,
     "end_time": "2023-11-14T00:46:08.486276",
     "exception": false,
     "start_time": "2023-11-14T00:38:39.742260",
     "status": "completed"
    },
    "tags": []
   },
   "outputs": [
    {
     "name": "stdout",
     "output_type": "stream",
     "text": [
      "Time taken for Random Forest:  448.31477069854736 seconds\n",
      "Time taken for Random Forest:  7.4719128449757894 minutes\n",
      "[[28502     2]\n",
      " [    4 28355]]\n",
      "Precision:  0.9999294706774341\n",
      "Recall:  0.9998589513029373\n",
      "Specificity:  0.9999298344092057\n",
      "Accuracy:  0.9998944832316269\n"
     ]
    },
    {
     "data": {
      "image/png": "[encoded data removed]",
      "text/plain": [
       "<Figure size 1000x700 with 2 Axes>"
      ]
     },
     "metadata": {},
     "output_type": "display_data"
    }
   ],
   "source": [
    "# Start the timer.\n",
    "start = time.time()\n",
    "\n",
    "# Create a Random Forest classifier.\n",
    "clf_rf = RandomForestClassifier(random_state=12345)\n",
    "\n",
    "# Train the classifier.\n",
    "clf_rf.fit(x_train, y_train)\n",
    "\n",
    "# Predict the test set results.\n",
    "y_pred = clf_rf.predict(x_test)\n",
    "\n",
    "# Stop the timer and calculate the time it takes to run \n",
    "end = time.time()\n",
    "print(\"Time taken for Random Forest: \", end - start, \"seconds\")\n",
    "print(\"Time taken for Random Forest: \", (end - start)/60, \"minutes\")\n",
    "\n",
    "# Calculate the confusion matrix.\n",
    "cm = confusion_matrix(y_test, y_pred)\n",
    "print(cm)\n",
    "\n",
    "# Plot the confusion matrix.\n",
    "plt.figure(figsize=(10,7))\n",
    "sns.heatmap(cm, annot=True, fmt='d')\n",
    "plt.xlabel('Predicted')\n",
    "plt.ylabel('Truth')\n",
    "\n",
    "# Calculate precision, recall, specificity, and accuracy.\n",
    "report = classification_report(y_test, y_pred, output_dict=True)\n",
    "print('Precision: ', report['1']['precision'])\n",
    "print('Recall: ', report['1']['recall'])\n",
    "print('Specificity: ', report['0']['recall'])\n",
    "print('Accuracy: ', report['accuracy'])\n"
   ]
  },
  {
   "cell_type": "markdown",
   "id": "1a8a0c36",
   "metadata": {
    "papermill": {
     "duration": 0.007869,
     "end_time": "2023-11-14T00:46:08.502794",
     "exception": false,
     "start_time": "2023-11-14T00:46:08.494925",
     "status": "completed"
    },
    "tags": []
   },
   "source": [
    "The time taken for Random Forest: the Random Forest model took approximately 455.18 seconds (7.59 minutes) to train.\n",
    "\n",
    "Confusion matrix:\n",
    "- True Positives (TP): These are cases in which the model predicted '1' (fraud), and the true label is also '1'. The model has 28355 true positives.\n",
    "- True Negatives (TN): These are cases in which the model predicted '0' (not fraud), and the true label is also '0'. The model has 28502 true negatives.\n",
    "- False Positives (FP): These are cases in which the model predicted '1', but the true label is '0'. The model has 2 false positives.\n",
    "- False Negatives (FN): These are cases in which the model predicted '0', but the true label is '1'. The model has 4 false negatives.\n",
    "\n",
    "Precision is the ratio of correctly predicted positive observations to the total predicted positives. High precision relates to the low false positive rate. The model has a precision of approximately 0.9999, which means that almost every instance that it predicted as 'fraud' was indeed fraud.\n",
    "\n",
    "Recall (Sensitivity) is the ratio of correctly predicted positive observations to all observations in actual class '1'. The model has a recall of approximately 0.9999, which means that it correctly identified almost all fraudulent transactions.\n",
    "\n",
    "Specificity is the ratio of correctly predicted negative observations to all observations in actual class '0'. The model has a specificity of approximately 0.9999, which means that it correctly identified all non-fraudulent transactions.\n",
    "\n",
    "Accuracy is the most intuitive performance measure. It is simply a ratio of correctly predicted observations to the total observations. The model has an accuracy of approximately 0.9999, which means that it correctly classified almost all transactions.\n",
    "\n",
    "These results indicate that the Random Forest model is performing well on the test data. It's correctly identifying almost all fraudulent and non-fraudulent transactions."
   ]
  },
  {
   "cell_type": "code",
   "execution_count": 13,
   "id": "26fc00e1",
   "metadata": {
    "execution": {
     "iopub.execute_input": "2023-11-14T00:46:08.522055Z",
     "iopub.status.busy": "2023-11-14T00:46:08.520509Z",
     "iopub.status.idle": "2023-11-14T00:53:38.155722Z",
     "shell.execute_reply": "2023-11-14T00:53:38.154367Z"
    },
    "papermill": {
     "duration": 449.647433,
     "end_time": "2023-11-14T00:53:38.158192",
     "exception": false,
     "start_time": "2023-11-14T00:46:08.510759",
     "status": "completed"
    },
    "tags": []
   },
   "outputs": [
    {
     "name": "stdout",
     "output_type": "stream",
     "text": [
      "Time taken for Ensemble:  449.2051248550415 seconds\n",
      "Time taken for Ensemble:  7.486752080917358 minutes\n",
      "[[28504     0]\n",
      " [   34 28325]]\n",
      "Precision:  1.0\n",
      "Recall:  0.9988010860749674\n",
      "Specificity:  1.0\n",
      "Accuracy:  0.9994020716458857\n"
     ]
    },
    {
     "data": {
      "image/png": "[encoded data removed]",
      "text/plain": [
       "<Figure size 1000x700 with 2 Axes>"
      ]
     },
     "metadata": {},
     "output_type": "display_data"
    }
   ],
   "source": [
    "# Start the timer.\n",
    "start = time.time()\n",
    "\n",
    "# Create a VotingClassifier.\n",
    "clf_ensemble = VotingClassifier(estimators=[('nb', clf_nb), ('rf', clf_rf)], voting='soft')\n",
    "\n",
    "# Train the classifier.\n",
    "clf_ensemble.fit(x_train, y_train)\n",
    "\n",
    "# Predict the test set results.\n",
    "y_pred = clf_ensemble.predict(x_test)\n",
    "\n",
    "# Stop the timer and calculate the time it takes to run \n",
    "end = time.time()\n",
    "print(\"Time taken for Ensemble: \", end - start, \"seconds\")\n",
    "print(\"Time taken for Ensemble: \", (end - start)/60, \"minutes\")\n",
    "\n",
    "# Calculate the confusion matrix.\n",
    "cm = confusion_matrix(y_test, y_pred)\n",
    "print(cm)\n",
    "\n",
    "# Plot the confusion matrix.\n",
    "plt.figure(figsize=(10,7))\n",
    "sns.heatmap(cm, annot=True, fmt='d')\n",
    "plt.xlabel('Predicted')\n",
    "plt.ylabel('Truth')\n",
    "\n",
    "# Calculate precision, recall, specificity, and accuracy.\n",
    "report = classification_report(y_test, y_pred, output_dict=True)\n",
    "print('Precision: ', report['1']['precision'])\n",
    "print('Recall: ', report['1']['recall'])\n",
    "print('Specificity: ', report['0']['recall'])\n",
    "print('Accuracy: ', report['accuracy'])\n"
   ]
  },
  {
   "cell_type": "markdown",
   "id": "bb280a9b",
   "metadata": {
    "papermill": {
     "duration": 0.009172,
     "end_time": "2023-11-14T00:53:38.176081",
     "exception": false,
     "start_time": "2023-11-14T00:53:38.166909",
     "status": "completed"
    },
    "tags": []
   },
   "source": [
    "The time taken for Ensemble: The ensemble model took approximately 563.93 seconds (or about 9.40 minutes) to train.\n",
    "\n",
    "Confusion matrix:\n",
    "- True Positives (TP): These are cases in which the model predicted '1' (fraud), and the true label is also '1'. The model has 28325 true positives.\n",
    "- True Negatives (TN): These are cases in which the model predicted '0' (not fraud), and the true label is also '0'. The model has 28504 true negatives.\n",
    "- False Positives (FP): These are cases in which the model predicted '1', but the true label is '0'. The model has 0 false positives.\n",
    "- False Negatives (FN): These are cases in which the model predicted '0', but the true label is '1'. The model has 34 false negatives.\n",
    "\n",
    "Precision is the ratio of correctly predicted positive observations to the total predicted positives. High precision relates to the low false positive rate. The model has a precision of 1.0, which means that every instance that it predicted as 'fraud' was indeed fraud.\n",
    "\n",
    "Recall (Sensitivity) is the ratio of correctly predicted positive observations to all observations in actual class '1'. The model has a recall of approximately 0.9988, which means that it correctly identified 99.88% of all fraudulent transactions.\n",
    "\n",
    "Specificity is the ratio of correctly predicted negative observations to all observations in actual class '0'. The model has a specificity of 1.0, which means that it correctly identified all non-fraudulent transactions.\n",
    "\n",
    "Accuracy is the most intuitive performance measure. It is simply a ratio of correctly predicted observations to the total observations. The model has an accuracy of approximately 0.9994, which means that it correctly classified 99.94% of all transactions.\n",
    "\n",
    "These results indicate that the ensemble model is performing  well on the test data. It's correctly identifying almost all fraudulent and non-fraudulent transactions."
   ]
  },
  {
   "cell_type": "code",
   "execution_count": null,
   "id": "1b731237",
   "metadata": {
    "papermill": {
     "duration": 0.09987,
     "end_time": "2023-11-14T00:53:38.284450",
     "exception": false,
     "start_time": "2023-11-14T00:53:38.184580",
     "status": "completed"
    },
    "tags": []
   },
   "outputs": [],
   "source": []
  }
 ],
 "metadata": {
  "kernelspec": {
   "display_name": "Python 3",
   "language": "python",
   "name": "python3"
  },
  "language_info": {
   "codemirror_mode": {
    "name": "ipython",
    "version": 3
   },
   "file_extension": ".py",
   "mimetype": "text/x-python",
   "name": "python",
   "nbconvert_exporter": "python",
   "pygments_lexer": "ipython3",
   "version": "3.10.12"
  },
  "papermill": {
   "default_parameters": {},
   "duration": 922.045768,
   "end_time": "2023-11-14T00:53:39.019253",
   "environment_variables": {},
   "exception": null,
   "input_path": "__notebook__.ipynb",
   "output_path": "__notebook__.ipynb",
   "parameters": {},
   "start_time": "2023-11-14T00:38:16.973485",
   "version": "2.4.0"
  }
 },
 "nbformat": 4,
 "nbformat_minor": 5
}
